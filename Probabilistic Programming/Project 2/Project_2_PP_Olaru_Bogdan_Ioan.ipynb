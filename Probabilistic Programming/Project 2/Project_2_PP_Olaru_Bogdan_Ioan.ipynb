{
  "nbformat": 4,
  "nbformat_minor": 0,
  "metadata": {
    "colab": {
      "name": "Project 2 PP - Olaru Bogdan-Ioan.ipynb",
      "provenance": [],
      "collapsed_sections": [],
      "machine_shape": "hm"
    },
    "kernelspec": {
      "name": "python3",
      "display_name": "Python 3"
    }
  },
  "cells": [
    {
      "cell_type": "markdown",
      "metadata": {
        "id": "X_GuCMEIHEid",
        "colab_type": "text"
      },
      "source": [
        "# Project 2 Probabilistic Programming\n",
        "## Olaru Bogdan-Ioan\n",
        "## Grupa 407"
      ]
    },
    {
      "cell_type": "code",
      "metadata": {
        "id": "-PcGGs7FKiih",
        "colab_type": "code",
        "colab": {}
      },
      "source": [
        "%matplotlib inline\n",
        "import pymc3 as pm\n",
        "import theano.tensor as T\n",
        "import tensorflow as tf\n",
        "import theano\n",
        "import numpy as np\n",
        "import pandas as pd\n",
        "import matplotlib.pyplot as plt\n",
        "import seaborn as sns\n",
        "sns.set_style('white')\n",
        "from sklearn.preprocessing import scale\n",
        "from sklearn.model_selection import train_test_split\n",
        "from sklearn.datasets import make_blobs\n",
        "from pymc3.theanof import set_tt_rng, MRG_RandomStreams"
      ],
      "execution_count": 0,
      "outputs": []
    },
    {
      "cell_type": "markdown",
      "metadata": {
        "id": "wnUhwxk63ccj",
        "colab_type": "text"
      },
      "source": [
        "# Comparison on multiclass data classification"
      ]
    },
    {
      "cell_type": "markdown",
      "metadata": {
        "id": "KMj6-GGRF-aA",
        "colab_type": "text"
      },
      "source": [
        "I will generate a dataset of 1000 samples with 3 classes represented by 3 blobs with different centers. 70% of dataset will be used as train data, and the rest of 30% will be used to test the models."
      ]
    },
    {
      "cell_type": "code",
      "metadata": {
        "id": "ujMttUZgKmsm",
        "colab_type": "code",
        "colab": {}
      },
      "source": [
        "X, Y = make_blobs(n_samples=1000, centers=3, n_features=2,random_state=1)\n",
        "X = scale(X)\n",
        "X = X.astype('float64')\n",
        "Y = Y.astype('float64')\n",
        "X_train, X_test, Y_train, Y_test = train_test_split(X, Y, test_size=.3)"
      ],
      "execution_count": 0,
      "outputs": []
    },
    {
      "cell_type": "code",
      "metadata": {
        "id": "R4Tira18LlZZ",
        "colab_type": "code",
        "outputId": "2931a229-9ca2-4962-e047-96efa2202e2c",
        "colab": {
          "base_uri": "https://localhost:8080/",
          "height": 346
        }
      },
      "source": [
        "fig, ax = plt.subplots()\n",
        "ax.scatter(X[Y==0, 0], X[Y==0, 1], color='b', label='Class 0')\n",
        "ax.scatter(X[Y==1, 0], X[Y==1, 1], color='r', label='Class 1')\n",
        "ax.scatter(X[Y==2, 0], X[Y==2, 1], color='y', label='Class 2')\n",
        "sns.despine()\n",
        "ax.legend()\n",
        "ax.set(xlabel='X', ylabel='Y', title='Multiclass classification dataset')"
      ],
      "execution_count": 0,
      "outputs": [
        {
          "output_type": "execute_result",
          "data": {
            "text/plain": [
              "[Text(0, 0.5, 'Y'),\n",
              " Text(0.5, 0, 'X'),\n",
              " Text(0.5, 1.0, 'Multiclass classification dataset')]"
            ]
          },
          "metadata": {
            "tags": []
          },
          "execution_count": 6
        },
        {
          "output_type": "display_data",
          "data": {
            "image/png": "[encoded data removed]",
            "text/plain": [
              "<Figure size 432x288 with 1 Axes>"
            ]
          },
          "metadata": {
            "tags": []
          }
        }
      ]
    },
    {
      "cell_type": "markdown",
      "metadata": {
        "id": "DaJcG_bF4YQL",
        "colab_type": "text"
      },
      "source": [
        "## \"Classic\" neural networks model"
      ]
    },
    {
      "cell_type": "markdown",
      "metadata": {
        "id": "y04YmnvEF7LZ",
        "colab_type": "text"
      },
      "source": [
        "I will implement an architecture with 2 hidden layer fully-connected layers, with 12 and with 6 neurons, using tanh as activation function and softmax for the output layer."
      ]
    },
    {
      "cell_type": "code",
      "metadata": {
        "id": "ISALRJFCy0GX",
        "colab_type": "code",
        "outputId": "f6a7c5d8-0054-455d-b3be-b63a2ef37c2d",
        "colab": {
          "base_uri": "https://localhost:8080/",
          "height": 87
        }
      },
      "source": [
        "model = tf.keras.models.Sequential([\n",
        "  tf.keras.layers.Dense(12, input_shape=(2,), activation='tanh'),\n",
        "  tf.keras.layers.Dense(6, activation='tanh'),\n",
        "  tf.keras.layers.Dense(3, activation='softmax')\n",
        "])\n",
        "\n",
        "model.compile(optimizer='adam',\n",
        "              loss='sparse_categorical_crossentropy',\n",
        "              metrics=['accuracy'])"
      ],
      "execution_count": 0,
      "outputs": [
        {
          "output_type": "stream",
          "text": [
            "WARNING:tensorflow:From /usr/local/lib/python3.6/dist-packages/tensorflow_core/python/ops/resource_variable_ops.py:1630: calling BaseResourceVariable.__init__ (from tensorflow.python.ops.resource_variable_ops) with constraint is deprecated and will be removed in a future version.\n",
            "Instructions for updating:\n",
            "If using Keras pass *_constraint arguments to layers.\n"
          ],
          "name": "stdout"
        }
      ]
    },
    {
      "cell_type": "code",
      "metadata": {
        "id": "O0aY2BEyCr5P",
        "colab_type": "code",
        "outputId": "a77ca544-1e91-4d66-f1ff-5adb2337ce3a",
        "colab": {
          "base_uri": "https://localhost:8080/",
          "height": 269
        }
      },
      "source": [
        "%%time\n",
        "model.fit(X_train, Y_train, epochs=5)\n",
        "print(model.evaluate(X_test, Y_test))"
      ],
      "execution_count": 0,
      "outputs": [
        {
          "output_type": "stream",
          "text": [
            "Train on 700 samples\n",
            "Epoch 1/5\n",
            "700/700 [==============================] - 0s 334us/sample - loss: 1.4184 - acc: 0.0414\n",
            "Epoch 2/5\n",
            "700/700 [==============================] - 0s 39us/sample - loss: 1.2145 - acc: 0.2614\n",
            "Epoch 3/5\n",
            "700/700 [==============================] - 0s 37us/sample - loss: 1.0476 - acc: 0.4071\n",
            "Epoch 4/5\n",
            "700/700 [==============================] - 0s 40us/sample - loss: 0.9027 - acc: 0.7186\n",
            "Epoch 5/5\n",
            "700/700 [==============================] - 0s 35us/sample - loss: 0.7777 - acc: 0.9914\n",
            "300/300 [==============================] - 0s 88us/sample - loss: 0.7226 - acc: 0.9900\n",
            "[0.7226044909159343, 0.99]\n",
            "CPU times: user 498 ms, sys: 42.4 ms, total: 541 ms\n",
            "Wall time: 823 ms\n"
          ],
          "name": "stdout"
        }
      ]
    },
    {
      "cell_type": "markdown",
      "metadata": {
        "id": "RI9XCUMX4qV2",
        "colab_type": "text"
      },
      "source": [
        "## Bayesian neural networks model"
      ]
    },
    {
      "cell_type": "code",
      "metadata": {
        "id": "AFsxqOe4MCQT",
        "colab_type": "code",
        "outputId": "ebe7243c-4b6c-457c-e983-10b8b91a4eed",
        "colab": {
          "base_uri": "https://localhost:8080/",
          "height": 50
        }
      },
      "source": [
        "def construct_nn(ann_input, ann_output):\n",
        "    init_1 = np.random.randn(X.shape[1], 12).astype('float64')\n",
        "    init_2 = np.random.randn(12, 6).astype('float64')\n",
        "    init_out = np.random.randn(6, 3).astype('float64')\n",
        "\n",
        "    with pm.Model() as neural_network:\n",
        "        ann_input = pm.Data('ann_input', X_train)\n",
        "        ann_output = pm.Data('ann_output', Y_train)\n",
        "\n",
        "        weights_in_1 = pm.Normal('w_in_1', 0, sigma=1,\n",
        "                                 shape=(X.shape[1], 12),\n",
        "                                 testval=init_1)\n",
        "\n",
        "        weights_1_2 = pm.Normal('w_1_2', 0, sigma=1,\n",
        "                                shape=(12, 6),\n",
        "                                testval=init_2)\n",
        "\n",
        "        weights_2_out = pm.Normal('w_2_out', 0, sigma=1,\n",
        "                                  shape=(6, 3),\n",
        "                                  testval=init_out)\n",
        "\n",
        "        act_1 = pm.math.tanh(pm.math.dot(ann_input,\n",
        "                                         weights_in_1))\n",
        "        act_2 = pm.math.tanh(pm.math.dot(act_1,\n",
        "                                         weights_1_2))\n",
        "        act_out = T.nnet.softmax(pm.math.dot(act_2,\n",
        "                                              weights_2_out))\n",
        "\n",
        "        out = pm.Categorical('out',\n",
        "                           act_out,\n",
        "                           observed=ann_output,\n",
        "                           total_size=Y_train.shape[0]\n",
        "                          )\n",
        "    return neural_network\n",
        "\n",
        "neural_network = construct_nn(X_train, Y_train)"
      ],
      "execution_count": 0,
      "outputs": [
        {
          "output_type": "stream",
          "text": [
            "INFO (theano.gof.compilelock): Refreshing lock /root/.theano/compiledir_Linux-4.14.137+-x86_64-with-Ubuntu-18.04-bionic-x86_64-3.6.9-64/lock_dir/lock\n",
            "INFO:theano.gof.compilelock:Refreshing lock /root/.theano/compiledir_Linux-4.14.137+-x86_64-with-Ubuntu-18.04-bionic-x86_64-3.6.9-64/lock_dir/lock\n"
          ],
          "name": "stderr"
        }
      ]
    },
    {
      "cell_type": "code",
      "metadata": {
        "id": "1ZOJDAl8MXFX",
        "colab_type": "code",
        "colab": {}
      },
      "source": [
        "set_tt_rng(MRG_RandomStreams(42))"
      ],
      "execution_count": 0,
      "outputs": []
    },
    {
      "cell_type": "code",
      "metadata": {
        "id": "wXTZa6a1MoHB",
        "colab_type": "code",
        "outputId": "12c01c82-12ae-4b16-e888-d2e15a39c035",
        "colab": {
          "base_uri": "https://localhost:8080/",
          "height": 101
        }
      },
      "source": [
        "%%time\n",
        "with neural_network:\n",
        "    inference = pm.ADVI()\n",
        "    approx = pm.fit(n=25000, method=inference)"
      ],
      "execution_count": 0,
      "outputs": [
        {
          "output_type": "stream",
          "text": [
            "Average Loss = 5.4072e+05: 100%|██████████| 25000/25000 [08:51<00:00, 47.05it/s]\n",
            "Finished [100%]: Average Loss = 5.4071e+05\n",
            "INFO:pymc3.variational.inference:Finished [100%]: Average Loss = 5.4071e+05\n"
          ],
          "name": "stderr"
        },
        {
          "output_type": "stream",
          "text": [
            "CPU times: user 8min 50s, sys: 7.2 s, total: 8min 57s\n",
            "Wall time: 8min 58s\n"
          ],
          "name": "stdout"
        }
      ]
    },
    {
      "cell_type": "code",
      "metadata": {
        "id": "4zZ7SJA2Y0br",
        "colab_type": "code",
        "outputId": "30488e0e-5fbc-456a-e629-741570c6899e",
        "colab": {
          "base_uri": "https://localhost:8080/",
          "height": 50
        }
      },
      "source": [
        "trace = approx.sample(draws=10000)"
      ],
      "execution_count": 0,
      "outputs": [
        {
          "output_type": "stream",
          "text": [
            "INFO (theano.gof.compilelock): Refreshing lock /root/.theano/compiledir_Linux-4.14.137+-x86_64-with-Ubuntu-18.04-bionic-x86_64-3.6.9-64/lock_dir/lock\n",
            "INFO:theano.gof.compilelock:Refreshing lock /root/.theano/compiledir_Linux-4.14.137+-x86_64-with-Ubuntu-18.04-bionic-x86_64-3.6.9-64/lock_dir/lock\n"
          ],
          "name": "stderr"
        }
      ]
    },
    {
      "cell_type": "code",
      "metadata": {
        "id": "pnNtyLxJNMQX",
        "colab_type": "code",
        "outputId": "05cf09ad-1584-4f29-fddb-6cd50c605523",
        "colab": {
          "base_uri": "https://localhost:8080/",
          "height": 34
        }
      },
      "source": [
        "pm.set_data(new_data={'ann_input': X_test, 'ann_output': Y_test}, model=neural_network)\n",
        "ppc = pm.sample_posterior_predictive(trace, samples=500, progressbar=True, model=neural_network)\n",
        "df = pd.DataFrame(ppc['out'])\n",
        "pred = df.mode().iloc[0].values #in order to choose the predicted class from the samples, I'm picking the most voted one"
      ],
      "execution_count": 0,
      "outputs": [
        {
          "output_type": "stream",
          "text": [
            "100%|██████████| 500/500 [00:09<00:00, 52.11it/s]\n"
          ],
          "name": "stderr"
        }
      ]
    },
    {
      "cell_type": "code",
      "metadata": {
        "id": "zGFw9FZHN7Wm",
        "colab_type": "code",
        "outputId": "3cbf3b9e-ee7b-439d-bdf6-7fbe06c40d2f",
        "colab": {
          "base_uri": "https://localhost:8080/",
          "height": 34
        }
      },
      "source": [
        "print('Accuracy = {}%'.format(np.mean([i == j for (i, j) in list(zip(Y_test, pred))]) * 100))"
      ],
      "execution_count": 0,
      "outputs": [
        {
          "output_type": "stream",
          "text": [
            "Accuracy = 32.666666666666664%\n"
          ],
          "name": "stdout"
        }
      ]
    },
    {
      "cell_type": "markdown",
      "metadata": {
        "id": "c3vm3lHSNfuB",
        "colab_type": "text"
      },
      "source": [
        "## Comparison\n",
        "\n",
        "In this case, the \"classic\" neural network (NN) performs much better than the Bayesian neural network (BNN), and in less time. Maybe with a longer training for the BNN it would perform better, but I observed that after some iterrations it seems to remain around the same loss."
      ]
    },
    {
      "cell_type": "markdown",
      "metadata": {
        "id": "mqT5BZ0v4Mfe",
        "colab_type": "text"
      },
      "source": [
        "# Comparison on binary data classification"
      ]
    },
    {
      "cell_type": "markdown",
      "metadata": {
        "id": "0ue7X9yUQDT0",
        "colab_type": "text"
      },
      "source": [
        "I will generate a dataset of 1000 samples with 2 classes represented by 2 blobs with different centers. 70% of dataset will be used as train data, and the rest of 30% will be used to test the models."
      ]
    },
    {
      "cell_type": "code",
      "metadata": {
        "id": "B5iNa-jM5Xx-",
        "colab_type": "code",
        "colab": {}
      },
      "source": [
        "X, Y = make_blobs(n_samples=1000, centers=2, n_features=2,random_state=0)\n",
        "X = scale(X)\n",
        "X = X.astype('float64')\n",
        "Y = Y.astype('float64')\n",
        "X_train, X_test, Y_train, Y_test = train_test_split(X, Y, test_size=.3)"
      ],
      "execution_count": 0,
      "outputs": []
    },
    {
      "cell_type": "code",
      "metadata": {
        "id": "DUpBQm_y5bfV",
        "colab_type": "code",
        "outputId": "59e59cdb-b7bc-42c2-e968-380879f1f602",
        "colab": {
          "base_uri": "https://localhost:8080/",
          "height": 346
        }
      },
      "source": [
        "fig, ax = plt.subplots()\n",
        "ax.scatter(X[Y==0, 0], X[Y==0, 1], color='b', label='Class 0')\n",
        "ax.scatter(X[Y==1, 0], X[Y==1, 1], color='r', label='Class 1')\n",
        "sns.despine()\n",
        "ax.legend()\n",
        "ax.set(xlabel='X', ylabel='Y', title='Binary classification dataset')"
      ],
      "execution_count": 0,
      "outputs": [
        {
          "output_type": "execute_result",
          "data": {
            "text/plain": [
              "[Text(0, 0.5, 'Y'),\n",
              " Text(0.5, 0, 'X'),\n",
              " Text(0.5, 1.0, 'Binary classification dataset')]"
            ]
          },
          "metadata": {
            "tags": []
          },
          "execution_count": 92
        },
        {
          "output_type": "display_data",
          "data": {
            "image/png": "[encoded data removed]",
            "text/plain": [
              "<Figure size 432x288 with 1 Axes>"
            ]
          },
          "metadata": {
            "tags": []
          }
        }
      ]
    },
    {
      "cell_type": "markdown",
      "metadata": {
        "id": "WjN9GrMi5MKj",
        "colab_type": "text"
      },
      "source": [
        "## \"Classic\" neural networks model"
      ]
    },
    {
      "cell_type": "markdown",
      "metadata": {
        "id": "AB-lHE6MPeJl",
        "colab_type": "text"
      },
      "source": [
        "I will implement an architecture with 2 hidden layer fully-connected layers, with 6 and with 3 neurons, using tanh as activation function and softmax for the output layer."
      ]
    },
    {
      "cell_type": "code",
      "metadata": {
        "id": "uSJVquHZ5fsD",
        "colab_type": "code",
        "outputId": "209ef345-06d7-4934-816f-c0dcd31dd44f",
        "colab": {
          "base_uri": "https://localhost:8080/",
          "height": 50
        }
      },
      "source": [
        "%%time\n",
        "\n",
        "model = tf.keras.models.Sequential([\n",
        "  tf.keras.layers.Dense(6, input_shape=(2,), activation='tanh'),\n",
        "  tf.keras.layers.Dense(3, activation='tanh'),\n",
        "  tf.keras.layers.Dense(1, activation='sigmoid')\n",
        "])\n",
        "\n",
        "model.compile(optimizer='adam',\n",
        "              loss='binary_crossentropy',\n",
        "              metrics=['accuracy'])"
      ],
      "execution_count": 0,
      "outputs": [
        {
          "output_type": "stream",
          "text": [
            "CPU times: user 84 ms, sys: 900 µs, total: 84.9 ms\n",
            "Wall time: 84.7 ms\n"
          ],
          "name": "stdout"
        }
      ]
    },
    {
      "cell_type": "code",
      "metadata": {
        "id": "Uvu4Igy9Itv7",
        "colab_type": "code",
        "outputId": "70713f3b-2491-40f9-da8c-718a4a70f80c",
        "colab": {
          "base_uri": "https://localhost:8080/",
          "height": 235
        }
      },
      "source": [
        "model.fit(X_train, Y_train, epochs=5)\n",
        "model.evaluate(X_test, Y_test)"
      ],
      "execution_count": 0,
      "outputs": [
        {
          "output_type": "stream",
          "text": [
            "Train on 700 samples\n",
            "Epoch 1/5\n",
            "700/700 [==============================] - 0s 41us/sample - loss: 0.4630 - acc: 0.9229\n",
            "Epoch 2/5\n",
            "700/700 [==============================] - 0s 39us/sample - loss: 0.4353 - acc: 0.9257\n",
            "Epoch 3/5\n",
            "700/700 [==============================] - 0s 43us/sample - loss: 0.4097 - acc: 0.9314\n",
            "Epoch 4/5\n",
            "700/700 [==============================] - 0s 42us/sample - loss: 0.3859 - acc: 0.9357\n",
            "Epoch 5/5\n",
            "700/700 [==============================] - 0s 39us/sample - loss: 0.3640 - acc: 0.9386\n",
            "300/300 [==============================] - 0s 30us/sample - loss: 0.3693 - acc: 0.9200\n"
          ],
          "name": "stdout"
        },
        {
          "output_type": "execute_result",
          "data": {
            "text/plain": [
              "[0.3692865510781606, 0.92]"
            ]
          },
          "metadata": {
            "tags": []
          },
          "execution_count": 95
        }
      ]
    },
    {
      "cell_type": "markdown",
      "metadata": {
        "id": "o3jhQq-o5OPo",
        "colab_type": "text"
      },
      "source": [
        "## Bayesian neural networks model"
      ]
    },
    {
      "cell_type": "code",
      "metadata": {
        "id": "jLwEYdLE5l4O",
        "colab_type": "code",
        "colab": {}
      },
      "source": [
        "def construct_nn(ann_input, ann_output):\n",
        "    init_1 = np.random.randn(X.shape[1], 6).astype('float64')\n",
        "    init_2 = np.random.randn(6, 3).astype('float64')\n",
        "    init_out = np.random.randn(3).astype('float64')\n",
        "\n",
        "    with pm.Model() as neural_network:\n",
        "        ann_input = pm.Data('ann_input', X_train)\n",
        "        ann_output = pm.Data('ann_output', Y_train)\n",
        "\n",
        "        weights_in_1 = pm.Normal('w_in_1', 0, sigma=1,\n",
        "                                 shape=(X.shape[1], 6),\n",
        "                                 testval=init_1)\n",
        "\n",
        "        weights_1_2 = pm.Normal('w_1_2', 0, sigma=1,\n",
        "                                shape=(6, 3),\n",
        "                                testval=init_2)\n",
        "\n",
        "        weights_2_out = pm.Normal('w_2_out', 0, sigma=1,\n",
        "                                  shape=(3,),\n",
        "                                  testval=init_out)\n",
        "\n",
        "        act_1 = pm.math.tanh(pm.math.dot(ann_input,\n",
        "                                         weights_in_1))\n",
        "        act_2 = pm.math.tanh(pm.math.dot(act_1,\n",
        "                                         weights_1_2))\n",
        "        act_out = pm.math.sigmoid(pm.math.dot(act_2,\n",
        "                                              weights_2_out))\n",
        "\n",
        "        out = pm.Bernoulli('out',\n",
        "                           act_out,\n",
        "                           observed=ann_output,\n",
        "                           total_size=Y_train.shape[0]\n",
        "                          )\n",
        "    return neural_network\n",
        "\n",
        "neural_network = construct_nn(X_train, Y_train)"
      ],
      "execution_count": 0,
      "outputs": []
    },
    {
      "cell_type": "code",
      "metadata": {
        "id": "ZGGrfTAu5met",
        "colab_type": "code",
        "colab": {}
      },
      "source": [
        "set_tt_rng(MRG_RandomStreams(42))"
      ],
      "execution_count": 0,
      "outputs": []
    },
    {
      "cell_type": "code",
      "metadata": {
        "id": "C63m0M8J5prn",
        "colab_type": "code",
        "outputId": "5a89e0d8-e452-48b9-bc70-e62d8d4e347b",
        "colab": {
          "base_uri": "https://localhost:8080/",
          "height": 134
        }
      },
      "source": [
        "%%time\n",
        "with neural_network:\n",
        "    inference = pm.ADVI()\n",
        "    approx = pm.fit(n=50000, method=inference)"
      ],
      "execution_count": 0,
      "outputs": [
        {
          "output_type": "stream",
          "text": [
            "INFO (theano.gof.compilelock): Refreshing lock /root/.theano/compiledir_Linux-4.14.137+-x86_64-with-Ubuntu-18.04-bionic-x86_64-3.6.9-64/lock_dir/lock\n",
            "INFO:theano.gof.compilelock:Refreshing lock /root/.theano/compiledir_Linux-4.14.137+-x86_64-with-Ubuntu-18.04-bionic-x86_64-3.6.9-64/lock_dir/lock\n",
            "Average Loss = 130.46: 100%|██████████| 50000/50000 [00:50<00:00, 980.52it/s]\n",
            "Finished [100%]: Average Loss = 130.55\n",
            "INFO:pymc3.variational.inference:Finished [100%]: Average Loss = 130.55\n"
          ],
          "name": "stderr"
        },
        {
          "output_type": "stream",
          "text": [
            "CPU times: user 51.3 s, sys: 6.04 s, total: 57.3 s\n",
            "Wall time: 52.6 s\n"
          ],
          "name": "stdout"
        }
      ]
    },
    {
      "cell_type": "code",
      "metadata": {
        "id": "Y0aTalUe5t2J",
        "colab_type": "code",
        "colab": {}
      },
      "source": [
        "trace = approx.sample(draws=5000)"
      ],
      "execution_count": 0,
      "outputs": []
    },
    {
      "cell_type": "code",
      "metadata": {
        "id": "UsJeC1hJ55gz",
        "colab_type": "code",
        "outputId": "758bf6a6-6dbc-4b01-984b-5167b1e3dddf",
        "colab": {
          "base_uri": "https://localhost:8080/",
          "height": 34
        }
      },
      "source": [
        "pm.set_data(new_data={'ann_input': X_test, 'ann_output': Y_test}, model=neural_network)\n",
        "ppc = pm.sample_posterior_predictive(trace, samples=1000, progressbar=True, model=neural_network)\n",
        "pred = ppc['out'].mean(axis=0) > 0.5"
      ],
      "execution_count": 0,
      "outputs": [
        {
          "output_type": "stream",
          "text": [
            "100%|██████████| 1000/1000 [00:11<00:00, 88.12it/s]\n"
          ],
          "name": "stderr"
        }
      ]
    },
    {
      "cell_type": "code",
      "metadata": {
        "id": "T2LSXZRg6Egv",
        "colab_type": "code",
        "outputId": "51b2b2e7-9503-4dfe-ac6f-999d0774fae7",
        "colab": {
          "base_uri": "https://localhost:8080/",
          "height": 346
        }
      },
      "source": [
        "fig, ax = plt.subplots()\n",
        "ax.scatter(X_test[pred==0, 0], X_test[pred==0, 1], color='b')\n",
        "ax.scatter(X_test[pred==1, 0], X_test[pred==1, 1], color='r')\n",
        "sns.despine()\n",
        "ax.set(title='Predicted labels in testing set', xlabel='X', ylabel='Y')"
      ],
      "execution_count": 0,
      "outputs": [
        {
          "output_type": "execute_result",
          "data": {
            "text/plain": [
              "[Text(0, 0.5, 'Y'),\n",
              " Text(0.5, 0, 'X'),\n",
              " Text(0.5, 1.0, 'Predicted labels in testing set')]"
            ]
          },
          "metadata": {
            "tags": []
          },
          "execution_count": 101
        },
        {
          "output_type": "display_data",
          "data": {
            "image/png": "[encoded data removed]",
            "text/plain": [
              "<Figure size 432x288 with 1 Axes>"
            ]
          },
          "metadata": {
            "tags": []
          }
        }
      ]
    },
    {
      "cell_type": "code",
      "metadata": {
        "id": "f6BZuRGL6JPt",
        "colab_type": "code",
        "outputId": "917f3fa6-5dc4-4708-ec65-8133bcaef5ac",
        "colab": {
          "base_uri": "https://localhost:8080/",
          "height": 34
        }
      },
      "source": [
        "print('Accuracy = {}%'.format((Y_test == pred).mean() * 100))"
      ],
      "execution_count": 0,
      "outputs": [
        {
          "output_type": "stream",
          "text": [
            "Accuracy = 97.33333333333334%\n"
          ],
          "name": "stdout"
        }
      ]
    },
    {
      "cell_type": "markdown",
      "metadata": {
        "id": "PMMwOi8NQawR",
        "colab_type": "text"
      },
      "source": [
        "As well, in this case \"classic\" neural network doesn't need so much time to train and predict as the Bayesian neural network, but the BNN has a signifiant better accuracy in my opinion, especially with regard to the distribution of the points in plane.\n",
        "\n",
        " ***L.E.: The Neural Networks in this project where designed only for comparison, I never aimed the state of the art for them.***"
      ]
    }
  ]
}